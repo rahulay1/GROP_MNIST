{
  "nbformat": 4,
  "nbformat_minor": 0,
  "metadata": {
    "colab": {
      "provenance": [],
      "machine_shape": "hm",
      "gpuType": "L4"
    },
    "kernelspec": {
      "name": "python3",
      "display_name": "Python 3"
    },
    "language_info": {
      "name": "python"
    },
    "accelerator": "GPU"
  },
  "cells": [
    {
      "cell_type": "code",
      "source": [
        "import torch\n",
        "import torch.nn as nn\n",
        "import torch.optim as optim\n",
        "import torch.nn.functional as F\n",
        "from torchvision import datasets, transforms\n",
        "from torch.utils.data import DataLoader\n",
        "import matplotlib.pyplot as plt\n",
        "import time\n",
        "import numpy as np\n",
        "\n",
        "# Device configuration\n",
        "device = torch.device(\"cuda\" if torch.cuda.is_available() else \"cpu\")\n",
        "\n",
        "# Define a simple neural network for MNIST with GRPO\n",
        "class MNIST_GRPO(nn.Module):\n",
        "    def __init__(self):\n",
        "        super(MNIST_GRPO, self).__init__()\n",
        "        self.fc1 = nn.Linear(28 * 28, 128)\n",
        "        self.fc2 = nn.Linear(128, 10)  # 10 output classes\n",
        "\n",
        "    def forward(self, x):\n",
        "        x = x.view(-1, 28 * 28)  # Flatten image\n",
        "        x = F.relu(self.fc1(x))\n",
        "        x = self.fc2(x)  # No softmax (will be handled in loss)\n",
        "        return x\n",
        "\n",
        "# GRPO Training Function with loss tracking\n",
        "def train_grpo(model, train_loader, optimizer, epochs=5, num_samples=6):\n",
        "    model.train()\n",
        "    loss_history = []\n",
        "\n",
        "    for epoch in range(epochs):\n",
        "        total_loss = 0\n",
        "        start_time = time.time()\n",
        "\n",
        "        for images, labels in train_loader:\n",
        "            images, labels = images.to(device), labels.to(device)\n",
        "\n",
        "            # Step 1: Sample multiple predictions\n",
        "            sampled_outputs = []\n",
        "            logits = model(images)\n",
        "\n",
        "            for _ in range(num_samples):\n",
        "                sampled_outputs.append(torch.multinomial(F.softmax(logits, dim=1), num_samples=1))\n",
        "\n",
        "            sampled_outputs = torch.cat(sampled_outputs, dim=1)  # Shape: [batch, num_samples]\n",
        "\n",
        "            # Step 2: Compute Rewards\n",
        "            rewards = (sampled_outputs == labels.view(-1, 1)).float()  # Reward = 1 if correct, else 0\n",
        "\n",
        "            # Step 3: Compute Advantage\n",
        "            mean_reward = rewards.mean(dim=1, keepdim=True)\n",
        "            advantages = rewards - mean_reward  # Compute relative advantage\n",
        "\n",
        "            # Step 4: Compute Policy Loss\n",
        "            log_probs = torch.log_softmax(logits, dim=1)\n",
        "            selected_log_probs = log_probs.gather(1, sampled_outputs)  # Get log probabilities of sampled outputs\n",
        "            loss = (-selected_log_probs * advantages).mean()  # Policy Gradient Loss\n",
        "\n",
        "            # Step 5: Backpropagation and Optimization\n",
        "            optimizer.zero_grad()\n",
        "            loss.backward()\n",
        "            optimizer.step()\n",
        "\n",
        "            total_loss += loss.item()\n",
        "\n",
        "        epoch_loss = total_loss / len(train_loader)\n",
        "        loss_history.append(epoch_loss)\n",
        "        epoch_time = time.time() - start_time\n",
        "\n",
        "        print(f\"Epoch {epoch+1}, Loss: {epoch_loss:.4f}, Time: {epoch_time:.2f}s\")\n",
        "\n",
        "    return loss_history\n",
        "\n",
        "# Load MNIST dataset\n",
        "transform = transforms.Compose([transforms.ToTensor(), transforms.Normalize((0.5,), (0.5,))])\n",
        "train_dataset = datasets.MNIST(root='./data', train=True, transform=transform, download=True)\n",
        "train_loader = DataLoader(train_dataset, batch_size=64, shuffle=True)\n",
        "\n",
        "# Initialize model, optimizer\n",
        "model = MNIST_GRPO().to(device)\n",
        "optimizer = optim.Adam(model.parameters(), lr=0.001)\n",
        "\n",
        "# Train the model using GRPO and collect loss history\n",
        "loss_history = train_grpo(model, train_loader, optimizer, epochs=30)"
      ],
      "metadata": {
        "colab": {
          "base_uri": "https://localhost:8080/"
        },
        "id": "hXiyoYYQcfj7",
        "outputId": "49a3c13a-f0de-4b6f-cf58-881802f9a502"
      },
      "execution_count": 35,
      "outputs": [
        {
          "output_type": "stream",
          "name": "stdout",
          "text": [
            "Epoch 1, Loss: -0.0325, Time: 13.51s\n",
            "Epoch 2, Loss: -0.0129, Time: 13.45s\n",
            "Epoch 3, Loss: -0.0142, Time: 13.46s\n",
            "Epoch 4, Loss: -0.0101, Time: 13.59s\n",
            "Epoch 5, Loss: -0.0084, Time: 13.48s\n",
            "Epoch 6, Loss: -0.0076, Time: 13.41s\n",
            "Epoch 7, Loss: -0.0068, Time: 13.46s\n",
            "Epoch 8, Loss: -0.0053, Time: 13.51s\n",
            "Epoch 9, Loss: -0.0055, Time: 13.38s\n",
            "Epoch 10, Loss: -0.0043, Time: 13.33s\n",
            "Epoch 11, Loss: -0.0040, Time: 13.32s\n",
            "Epoch 12, Loss: -0.0040, Time: 13.33s\n",
            "Epoch 13, Loss: -0.0035, Time: 13.33s\n",
            "Epoch 14, Loss: -0.0035, Time: 13.39s\n",
            "Epoch 15, Loss: -0.0032, Time: 13.36s\n",
            "Epoch 16, Loss: -0.0034, Time: 13.46s\n",
            "Epoch 17, Loss: -0.0027, Time: 13.41s\n",
            "Epoch 18, Loss: -0.0027, Time: 13.35s\n",
            "Epoch 19, Loss: -0.0019, Time: 13.40s\n",
            "Epoch 20, Loss: -0.0024, Time: 13.41s\n",
            "Epoch 21, Loss: -0.0021, Time: 13.36s\n",
            "Epoch 22, Loss: -0.0020, Time: 13.37s\n",
            "Epoch 23, Loss: -0.0021, Time: 13.44s\n",
            "Epoch 24, Loss: -0.0018, Time: 13.52s\n",
            "Epoch 25, Loss: -0.0020, Time: 13.44s\n",
            "Epoch 26, Loss: -0.0018, Time: 13.55s\n",
            "Epoch 27, Loss: -0.0016, Time: 13.48s\n",
            "Epoch 28, Loss: -0.0017, Time: 13.42s\n",
            "Epoch 29, Loss: -0.0015, Time: 13.47s\n",
            "Epoch 30, Loss: -0.0013, Time: 13.48s\n"
          ]
        }
      ]
    },
    {
      "cell_type": "code",
      "source": [
        "# Plot Training Loss Curve\n",
        "plt.figure(figsize=(8, 5))\n",
        "plt.plot(range(1, 31), loss_history, marker='o', linestyle='-', color='b', label=\"GRPO Loss\")\n",
        "plt.xlabel(\"Epochs\")\n",
        "plt.ylabel(\"Loss\")\n",
        "plt.title(\"GRPO Training Loss Curve\")\n",
        "plt.legend()\n",
        "plt.grid(True)\n",
        "plt.show()"
      ],
      "metadata": {
        "colab": {
          "base_uri": "https://localhost:8080/",
          "height": 487
        },
        "id": "FivVUw45d4gQ",
        "outputId": "23e7af47-6d87-43ef-8dbd-0626d373d477"
      },
      "execution_count": 36,
      "outputs": [
        {
          "output_type": "display_data",
          "data": {
            "text/plain": [
              "<Figure size 800x500 with 1 Axes>"
            ],
            "image/png": "[encoded data removed]"
          },
          "metadata": {}
        }
      ]
    },
    {
      "cell_type": "code",
      "source": [
        "# Function to evaluate the trained model on the MNIST test set\n",
        "def evaluate_model(model, test_loader):\n",
        "    model.eval()  # Set model to evaluation mode\n",
        "    correct = 0\n",
        "    total = 0\n",
        "\n",
        "    with torch.no_grad():  # Disable gradient computation for efficiency\n",
        "        for images, labels in test_loader:\n",
        "            images, labels = images.to(device), labels.to(device)\n",
        "\n",
        "            logits = model(images)\n",
        "            predictions = torch.argmax(logits, dim=1)  # Get the class with the highest probability\n",
        "\n",
        "            correct += (predictions == labels).sum().item()\n",
        "            total += labels.size(0)\n",
        "\n",
        "    accuracy = 100 * correct / total\n",
        "    return accuracy\n",
        "\n",
        "# Load MNIST test dataset\n",
        "test_dataset = datasets.MNIST(root='./data', train=False, transform=transform, download=True)\n",
        "test_loader = DataLoader(test_dataset, batch_size=64, shuffle=False)\n",
        "\n",
        "# Evaluate the trained GRPO model\n",
        "grpo_accuracy = evaluate_model(model, test_loader)\n",
        "\n",
        "print(f\"GRPO Test Accuracy: {grpo_accuracy:.2f}%\")\n",
        "\n",
        "# Return accuracy result\n",
        "grpo_accuracy\n"
      ],
      "metadata": {
        "colab": {
          "base_uri": "https://localhost:8080/"
        },
        "id": "t9qMwUsKdFb6",
        "outputId": "164336e2-bf6a-4617-d5b1-2da6149360de"
      },
      "execution_count": 37,
      "outputs": [
        {
          "output_type": "stream",
          "name": "stdout",
          "text": [
            "GRPO Test Accuracy: 96.84%\n"
          ]
        },
        {
          "output_type": "execute_result",
          "data": {
            "text/plain": [
              "96.84"
            ]
          },
          "metadata": {},
          "execution_count": 37
        }
      ]
    }
  ]
}